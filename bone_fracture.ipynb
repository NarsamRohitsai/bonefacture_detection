{
  "cells": [
    {
      "cell_type": "code",
      "execution_count": null,
      "metadata": {
        "id": "hNzihEhBTuAb"
      },
      "outputs": [],
      "source": [
        "import os\n",
        "import zipfile"
      ]
    },
    {
      "cell_type": "code",
      "execution_count": null,
      "metadata": {
        "colab": {
          "base_uri": "https://localhost:8080/"
        },
        "id": "j81fLs8-pLlf",
        "outputId": "076602c3-5d61-418e-89c7-3c00a5af4154"
      },
      "outputs": [
        {
          "output_type": "stream",
          "name": "stdout",
          "text": [
            "Mounted at /content/gdrive\n"
          ]
        }
      ],
      "source": [
        "from google.colab import drive\n",
        "drive.mount('/content/gdrive')"
      ]
    },
    {
      "cell_type": "code",
      "execution_count": null,
      "metadata": {
        "id": "t4xumHVmpRSB"
      },
      "outputs": [],
      "source": [
        "df='/content/gdrive/MyDrive/Bone_Fracture.zip'"
      ]
    },
    {
      "cell_type": "code",
      "execution_count": null,
      "metadata": {
        "id": "yHkux5nz23_-"
      },
      "outputs": [],
      "source": [
        "df1=zipfile.ZipFile(df,'r')"
      ]
    },
    {
      "cell_type": "code",
      "execution_count": null,
      "metadata": {
        "id": "XbobfNf027i6"
      },
      "outputs": [],
      "source": [
        "df1.extractall('/content/gdrive/MyDrive/Bone_Fracture')"
      ]
    },
    {
      "cell_type": "code",
      "execution_count": null,
      "metadata": {
        "id": "ggXlnLK43C7R"
      },
      "outputs": [],
      "source": [
        "df1.close()"
      ]
    },
    {
      "cell_type": "code",
      "execution_count": null,
      "metadata": {
        "colab": {
          "base_uri": "https://localhost:8080/"
        },
        "id": "Sfz_3_W93OXy",
        "outputId": "95816460-cd66-4f0b-ac2a-50543dad7561"
      },
      "outputs": [
        {
          "output_type": "execute_result",
          "data": {
            "text/plain": [
              "['Negative', 'Positive']"
            ]
          },
          "metadata": {},
          "execution_count": 3
        }
      ],
      "source": [
        "os.listdir('/content/gdrive/MyDrive/Bone_Fracture')"
      ]
    },
    {
      "cell_type": "code",
      "execution_count": null,
      "metadata": {
        "id": "Ofl-sBfK3TT1"
      },
      "outputs": [],
      "source": [
        "train_positive_dir = os.path.join('/content/gdrive/MyDrive/Bone_Fracture/Positive')\n"
      ]
    },
    {
      "cell_type": "code",
      "execution_count": null,
      "metadata": {
        "id": "ftZCcQvA3gZ7"
      },
      "outputs": [],
      "source": [
        "train_negative_dir = os.path.join('/content/gdrive/MyDrive/Bone_Fracture/Negative')"
      ]
    },
    {
      "cell_type": "code",
      "execution_count": null,
      "metadata": {
        "id": "F3wbkOwLp3cM"
      },
      "outputs": [],
      "source": [
        ""
      ]
    },
    {
      "cell_type": "code",
      "execution_count": null,
      "metadata": {
        "colab": {
          "base_uri": "https://localhost:8080/"
        },
        "id": "nZc6HLAe3qKK",
        "outputId": "0dc2369b-9850-458f-8505-0382743cd1af"
      },
      "outputs": [
        {
          "name": "stdout",
          "output_type": "stream",
          "text": [
            "['003.jpg', '004.jpg', '005.jpg']\n"
          ]
        }
      ],
      "source": [
        "train_positive_names = os.listdir(train_positive_dir)\n",
        "print(train_positive_names[2:5])\n"
      ]
    },
    {
      "cell_type": "code",
      "execution_count": null,
      "metadata": {
        "colab": {
          "base_uri": "https://localhost:8080/"
        },
        "id": "o7DMJN3N3wVv",
        "outputId": "feb4b0f1-e39b-47a8-dcab-d48e0db67ea6"
      },
      "outputs": [
        {
          "name": "stdout",
          "output_type": "stream",
          "text": [
            "['094.jpg', '097.jpg', '110.jpg', '116.jpg', '138.jpg', '158.jpg', '159.jpg', '160.jpg', '165.jpg', '168.jpg', '171.jpg', '180.jpg', '181.jpg', '182.jpg', '208.jpg', '213.jpg', '225.jpg', '228.jpg', '229.jpg', '233.jpg', '240.jpg', '241.jpg', '245.jpg', '246.jpg', '247.jpg', '269.jpg', '270.jpg', '273.jpg', '277.jpg', '278.jpg', '283.jpg', '284.jpg', '285.jpg', '286.jpg', '289.jpg', '293.jpg', '294.jpg', '300.jpg', '301.jpg', '304.jpg', '305.jpg', '306.jpg', '312.jpg', '317.jpg', '322.jpg', '327.jpg', '330.jpg', '336.jpg', '337.jpg', '340.jpg', '345.jpg', '348.jpg', '349.jpg', '353.jpg', '354.jpg', '359.jpg', '362.jpg', '366.jpg', '377.jpg', '381.jpg', '382.jpg', '383.jpg', '385.jpg', '386.jpg', '389.jpg', '390.jpg', '395.jpg', '398.jpg', '402.jpg', '407.jpg', '419.jpg', '424.jpg', '426.jpg', '429.jpg', '432.jpg', '433.jpg', '439.jpg', '440.jpg', '441.jpg', '442.jpg', '457.jpg', '458.jpg', '465.jpg', '468.jpg', '474.jpg', '480.jpg', '486.jpg', '490.jpg', '496.jpg', '505.jpg', '506.jpg', '507.jpg', '508.jpg', '511.jpg', '512.jpg', '514.jpg', '515.jpg', '516.jpg', '519.jpg', '523.jpg', '524.jpg', '528.jpg', '532.jpg', '533.jpg', '545.jpg', '549.jpg', '550.jpg', '556.jpg', '557.jpg', '558.jpg', '560.jpg', '571.jpg', '572.jpg', '578.jpg', '580.jpg', '582.jpg', '584.jpg', '586.jpg', '588.jpg', '589.jpg', '591.jpg', '592.jpg', '593.jpg', '595.jpg']\n"
          ]
        }
      ],
      "source": [
        "train_negative_names = os.listdir(train_negative_dir)\n",
        "print(train_negative_names[10:])\n"
      ]
    },
    {
      "cell_type": "code",
      "execution_count": null,
      "metadata": {
        "colab": {
          "base_uri": "https://localhost:8080/"
        },
        "id": "HTt4aCm8391i",
        "outputId": "cefe857f-ff33-435d-ed70-452cf17dc4e6"
      },
      "outputs": [
        {
          "name": "stdout",
          "output_type": "stream",
          "text": [
            "total training normal images: 386\n",
            "total training glaucoma images: 134\n"
          ]
        }
      ],
      "source": [
        "print('total training normal images:', len(os.listdir(train_normal_dir)))\n",
        "print('total training glaucoma images:', len(os.listdir(train_glaucoma_dir)))"
      ]
    },
    {
      "cell_type": "code",
      "execution_count": null,
      "metadata": {
        "id": "jgSb4RSX4IAy"
      },
      "outputs": [],
      "source": [
        "%matplotlib inline\n",
        "\n",
        "import matplotlib.pyplot as plt\n",
        "import matplotlib.image as mpimg"
      ]
    },
    {
      "cell_type": "code",
      "execution_count": null,
      "metadata": {
        "id": "ce0k-P3G4KTC"
      },
      "outputs": [],
      "source": [
        "# Parameters for our graph; we'll output images in a 4x4 configuration\n",
        "nrows = 4\n",
        "ncols = 4"
      ]
    },
    {
      "cell_type": "code",
      "execution_count": null,
      "metadata": {
        "id": "Tl1TmyAp4L-S"
      },
      "outputs": [],
      "source": [
        "pic_index = 0"
      ]
    },
    {
      "cell_type": "code",
      "execution_count": null,
      "metadata": {
        "colab": {
          "base_uri": "https://localhost:8080/",
          "height": 34
        },
        "id": "-fmUuucC4Ng0",
        "outputId": "d3598fbe-6992-40ef-bae6-66e6e16e7d59"
      },
      "outputs": [
        {
          "data": {
            "text/plain": [
              "<Figure size 1152x1152 with 0 Axes>"
            ]
          },
          "metadata": {},
          "output_type": "display_data"
        }
      ],
      "source": [
        "fig = plt.gcf()\n",
        "fig.set_size_inches(ncols * 4, nrows * 4)"
      ]
    },
    {
      "cell_type": "code",
      "execution_count": null,
      "metadata": {
        "id": "WRvKxCBDq2kW"
      },
      "outputs": [],
      "source": [
        ""
      ]
    },
    {
      "cell_type": "code",
      "execution_count": null,
      "metadata": {
        "id": "O_N4Xlhd4PCE"
      },
      "outputs": [],
      "source": [
        "\n",
        "pic_index += 8\n",
        "next_positive_pix = [os.path.join(train_positive_dir, fname) \n",
        "                for fname in train_positive_names[pic_index-8:pic_index]]\n",
        "next_negative_pix = [os.path.join(train_negative_dir, fname) \n",
        "                for fname in train_negative_names[pic_index-8:pic_index]]"
      ]
    },
    {
      "cell_type": "code",
      "execution_count": null,
      "metadata": {
        "id": "YNvog3_-4aiU"
      },
      "outputs": [],
      "source": [
        "import tensorflow as tf"
      ]
    },
    {
      "cell_type": "code",
      "execution_count": null,
      "metadata": {
        "id": "UYwJ-iDX4clX"
      },
      "outputs": [],
      "source": [
        "model = tf.keras.models.Sequential([\n",
        "    # Note the input shape is the desired size of the image 300x300 with 3 bytes color\n",
        "    # This is the first convolution\n",
        "    tf.keras.layers.Conv2D(16, (3,3), activation='relu', input_shape=(300, 300, 3)),\n",
        "    tf.keras.layers.MaxPooling2D(2, 2),\n",
        "    # The second convolution\n",
        "    tf.keras.layers.Conv2D(32, (3,3), activation='relu'),\n",
        "    tf.keras.layers.MaxPooling2D(2,2),\n",
        "    # The third convolution\n",
        "    tf.keras.layers.Conv2D(64, (3,3), activation='relu'),\n",
        "    tf.keras.layers.MaxPooling2D(2,2),\n",
        "    # The fourth convolution\n",
        "    tf.keras.layers.Conv2D(64, (3,3), activation='relu'),\n",
        "    tf.keras.layers.MaxPooling2D(2,2),\n",
        "    # The fifth convolution\n",
        "    tf.keras.layers.Conv2D(64, (3,3), activation='relu'),\n",
        "    tf.keras.layers.MaxPooling2D(2,2),\n",
        "    # Flatten the results to feed into a DNN\n",
        "    tf.keras.layers.Flatten(),\n",
        "    # 512 neuron hidden layer\n",
        "    tf.keras.layers.Dense(512, activation='relu'),\n",
        "    tf.keras.layers.Dense(1, activation='sigmoid')\n",
        "])\n"
      ]
    },
    {
      "cell_type": "code",
      "execution_count": null,
      "metadata": {
        "colab": {
          "base_uri": "https://localhost:8080/"
        },
        "id": "aSyozKDK4d9X",
        "outputId": "59f44853-6982-4a82-d6e7-80ac11a1f954"
      },
      "outputs": [
        {
          "output_type": "stream",
          "name": "stdout",
          "text": [
            "Model: \"sequential\"\n",
            "_________________________________________________________________\n",
            " Layer (type)                Output Shape              Param #   \n",
            "=================================================================\n",
            " conv2d (Conv2D)             (None, 298, 298, 16)      448       \n",
            "                                                                 \n",
            " max_pooling2d (MaxPooling2D  (None, 149, 149, 16)     0         \n",
            " )                                                               \n",
            "                                                                 \n",
            " conv2d_1 (Conv2D)           (None, 147, 147, 32)      4640      \n",
            "                                                                 \n",
            " max_pooling2d_1 (MaxPooling  (None, 73, 73, 32)       0         \n",
            " 2D)                                                             \n",
            "                                                                 \n",
            " conv2d_2 (Conv2D)           (None, 71, 71, 64)        18496     \n",
            "                                                                 \n",
            " max_pooling2d_2 (MaxPooling  (None, 35, 35, 64)       0         \n",
            " 2D)                                                             \n",
            "                                                                 \n",
            " conv2d_3 (Conv2D)           (None, 33, 33, 64)        36928     \n",
            "                                                                 \n",
            " max_pooling2d_3 (MaxPooling  (None, 16, 16, 64)       0         \n",
            " 2D)                                                             \n",
            "                                                                 \n",
            " conv2d_4 (Conv2D)           (None, 14, 14, 64)        36928     \n",
            "                                                                 \n",
            " max_pooling2d_4 (MaxPooling  (None, 7, 7, 64)         0         \n",
            " 2D)                                                             \n",
            "                                                                 \n",
            " flatten (Flatten)           (None, 3136)              0         \n",
            "                                                                 \n",
            " dense (Dense)               (None, 512)               1606144   \n",
            "                                                                 \n",
            " dense_1 (Dense)             (None, 1)                 513       \n",
            "                                                                 \n",
            "=================================================================\n",
            "Total params: 1,704,097\n",
            "Trainable params: 1,704,097\n",
            "Non-trainable params: 0\n",
            "_________________________________________________________________\n"
          ]
        }
      ],
      "source": [
        "model.summary()"
      ]
    },
    {
      "cell_type": "code",
      "execution_count": null,
      "metadata": {
        "id": "UX-iyb_A4gin"
      },
      "outputs": [],
      "source": [
        "from tensorflow.keras.optimizers import RMSprop"
      ]
    },
    {
      "cell_type": "code",
      "execution_count": null,
      "metadata": {
        "colab": {
          "base_uri": "https://localhost:8080/"
        },
        "id": "jjCBiyj_4jJn",
        "outputId": "95942c08-66d3-4224-bc26-1f644a09b7e0"
      },
      "outputs": [
        {
          "output_type": "stream",
          "name": "stderr",
          "text": [
            "/usr/local/lib/python3.7/dist-packages/keras/optimizer_v2/rmsprop.py:130: UserWarning: The `lr` argument is deprecated, use `learning_rate` instead.\n",
            "  super(RMSprop, self).__init__(name, **kwargs)\n"
          ]
        }
      ],
      "source": [
        "model.compile(loss='binary_crossentropy',\n",
        "              optimizer=RMSprop(lr=0.001),\n",
        "              metrics=['acc'])\n"
      ]
    },
    {
      "cell_type": "code",
      "execution_count": null,
      "metadata": {
        "id": "DH4U6DBv4kw3"
      },
      "outputs": [],
      "source": [
        "from tensorflow.keras.preprocessing.image import ImageDataGenerator"
      ]
    },
    {
      "cell_type": "code",
      "execution_count": null,
      "metadata": {
        "id": "vNYm0tPT4mz2"
      },
      "outputs": [],
      "source": [
        "train_datagen = ImageDataGenerator(rescale=1/255)\n"
      ]
    },
    {
      "cell_type": "code",
      "execution_count": null,
      "metadata": {
        "colab": {
          "base_uri": "https://localhost:8080/"
        },
        "id": "Q3jFKjUd4pYH",
        "outputId": "fe242078-848f-4757-ba61-b323a2932848"
      },
      "outputs": [
        {
          "output_type": "stream",
          "name": "stdout",
          "text": [
            "Found 169 images belonging to 2 classes.\n"
          ]
        }
      ],
      "source": [
        "train_generator = train_datagen.flow_from_directory('/content/gdrive/MyDrive/Bone_Fracture',  # This is the source directory for training images\n",
        "        target_size=(300, 300),  # All images will be resized to 150x150\n",
        "        batch_size=8,\n",
        "        # Since we use binary_crossentropy loss, we need binary labels\n",
        "        class_mode='binary')"
      ]
    },
    {
      "cell_type": "code",
      "execution_count": null,
      "metadata": {
        "colab": {
          "base_uri": "https://localhost:8080/"
        },
        "id": "-WzJC2pi4vCJ",
        "outputId": "0292704f-d8cd-48a8-cd81-8de2912485ee"
      },
      "outputs": [
        {
          "output_type": "stream",
          "name": "stderr",
          "text": [
            "/usr/local/lib/python3.7/dist-packages/ipykernel_launcher.py:5: UserWarning: `Model.fit_generator` is deprecated and will be removed in a future version. Please use `Model.fit`, which supports generators.\n",
            "  \"\"\"\n"
          ]
        },
        {
          "output_type": "stream",
          "name": "stdout",
          "text": [
            "Epoch 1/100\n",
            "8/8 [==============================] - 27s 3s/step - loss: 0.9921 - acc: 0.4912\n",
            "Epoch 2/100\n",
            "8/8 [==============================] - 14s 2s/step - loss: 0.6914 - acc: 0.5156\n",
            "Epoch 3/100\n",
            "8/8 [==============================] - 8s 911ms/step - loss: 0.6928 - acc: 0.5312\n",
            "Epoch 4/100\n",
            "8/8 [==============================] - 4s 446ms/step - loss: 0.6796 - acc: 0.6667\n",
            "Epoch 5/100\n",
            "8/8 [==============================] - 6s 775ms/step - loss: 0.6431 - acc: 0.5938\n",
            "Epoch 6/100\n",
            "8/8 [==============================] - 5s 571ms/step - loss: 0.6831 - acc: 0.5781\n",
            "Epoch 7/100\n",
            "8/8 [==============================] - 4s 470ms/step - loss: 0.6578 - acc: 0.6094\n",
            "Epoch 8/100\n",
            "8/8 [==============================] - 3s 415ms/step - loss: 0.6150 - acc: 0.6316\n",
            "Epoch 9/100\n",
            "8/8 [==============================] - 4s 478ms/step - loss: 0.6140 - acc: 0.6406\n",
            "Epoch 10/100\n",
            "8/8 [==============================] - 4s 472ms/step - loss: 0.5538 - acc: 0.7500\n",
            "Epoch 11/100\n",
            "8/8 [==============================] - 4s 470ms/step - loss: 0.4381 - acc: 0.7812\n",
            "Epoch 12/100\n",
            "8/8 [==============================] - 4s 473ms/step - loss: 0.5628 - acc: 0.7188\n",
            "Epoch 13/100\n",
            "8/8 [==============================] - 4s 471ms/step - loss: 0.4674 - acc: 0.7812\n",
            "Epoch 14/100\n",
            "8/8 [==============================] - 3s 472ms/step - loss: 0.3502 - acc: 0.7895\n",
            "Epoch 15/100\n",
            "8/8 [==============================] - 4s 472ms/step - loss: 0.3712 - acc: 0.8594\n",
            "Epoch 16/100\n",
            "8/8 [==============================] - 4s 453ms/step - loss: 0.3454 - acc: 0.8772\n",
            "Epoch 17/100\n",
            "8/8 [==============================] - 3s 413ms/step - loss: 0.3844 - acc: 0.7895\n",
            "Epoch 18/100\n",
            "8/8 [==============================] - 4s 477ms/step - loss: 0.3306 - acc: 0.8281\n",
            "Epoch 19/100\n",
            "8/8 [==============================] - 3s 426ms/step - loss: 0.2242 - acc: 0.9123\n",
            "Epoch 20/100\n",
            "8/8 [==============================] - 4s 477ms/step - loss: 0.2982 - acc: 0.8906\n",
            "Epoch 21/100\n",
            "8/8 [==============================] - 4s 473ms/step - loss: 0.0959 - acc: 0.9688\n",
            "Epoch 22/100\n",
            "8/8 [==============================] - 3s 424ms/step - loss: 0.2869 - acc: 0.9298\n",
            "Epoch 23/100\n",
            "8/8 [==============================] - 4s 484ms/step - loss: 0.1407 - acc: 0.9375\n",
            "Epoch 24/100\n",
            "8/8 [==============================] - 4s 475ms/step - loss: 0.2065 - acc: 0.8906\n",
            "Epoch 25/100\n",
            "8/8 [==============================] - 4s 477ms/step - loss: 0.1310 - acc: 0.9531\n",
            "Epoch 26/100\n",
            "8/8 [==============================] - 3s 422ms/step - loss: 0.1230 - acc: 0.9474\n",
            "Epoch 27/100\n",
            "8/8 [==============================] - 3s 422ms/step - loss: 0.1211 - acc: 0.8947\n",
            "Epoch 28/100\n",
            "8/8 [==============================] - 4s 486ms/step - loss: 0.0545 - acc: 1.0000\n",
            "Epoch 29/100\n",
            "8/8 [==============================] - 4s 487ms/step - loss: 0.0071 - acc: 1.0000\n",
            "Epoch 30/100\n",
            "8/8 [==============================] - 3s 484ms/step - loss: 0.3190 - acc: 0.9298\n",
            "Epoch 31/100\n",
            "8/8 [==============================] - 4s 479ms/step - loss: 0.0705 - acc: 0.9844\n",
            "Epoch 32/100\n",
            "8/8 [==============================] - 3s 470ms/step - loss: 0.0308 - acc: 1.0000\n",
            "Epoch 33/100\n",
            "8/8 [==============================] - 4s 479ms/step - loss: 0.2003 - acc: 0.9688\n",
            "Epoch 34/100\n",
            "8/8 [==============================] - 4s 477ms/step - loss: 0.1501 - acc: 0.9375\n",
            "Epoch 35/100\n",
            "8/8 [==============================] - 4s 480ms/step - loss: 0.0657 - acc: 0.9844\n",
            "Epoch 36/100\n",
            "8/8 [==============================] - 4s 483ms/step - loss: 0.0109 - acc: 1.0000\n",
            "Epoch 37/100\n",
            "8/8 [==============================] - 4s 424ms/step - loss: 0.0243 - acc: 1.0000\n",
            "Epoch 38/100\n",
            "8/8 [==============================] - 3s 424ms/step - loss: 0.3142 - acc: 0.8772\n",
            "Epoch 39/100\n",
            "8/8 [==============================] - 3s 419ms/step - loss: 0.0321 - acc: 1.0000\n",
            "Epoch 40/100\n",
            "8/8 [==============================] - 4s 479ms/step - loss: 0.0289 - acc: 0.9844\n",
            "Epoch 41/100\n",
            "8/8 [==============================] - 3s 421ms/step - loss: 0.0073 - acc: 1.0000\n",
            "Epoch 42/100\n",
            "8/8 [==============================] - 4s 479ms/step - loss: 0.0035 - acc: 1.0000\n",
            "Epoch 43/100\n",
            "8/8 [==============================] - 4s 481ms/step - loss: 9.4181e-04 - acc: 1.0000\n",
            "Epoch 44/100\n",
            "8/8 [==============================] - 4s 426ms/step - loss: 9.9304e-04 - acc: 1.0000\n",
            "Epoch 45/100\n",
            "8/8 [==============================] - 4s 484ms/step - loss: 0.0468 - acc: 0.9844\n",
            "Epoch 46/100\n",
            "8/8 [==============================] - 4s 483ms/step - loss: 0.0272 - acc: 0.9844\n",
            "Epoch 47/100\n",
            "8/8 [==============================] - 4s 483ms/step - loss: 0.0046 - acc: 1.0000\n",
            "Epoch 48/100\n",
            "8/8 [==============================] - 4s 481ms/step - loss: 6.1713e-04 - acc: 1.0000\n",
            "Epoch 49/100\n",
            "8/8 [==============================] - 4s 427ms/step - loss: 0.0011 - acc: 1.0000\n",
            "Epoch 50/100\n",
            "8/8 [==============================] - 3s 484ms/step - loss: 0.0012 - acc: 1.0000\n",
            "Epoch 51/100\n",
            "8/8 [==============================] - 4s 431ms/step - loss: 1.0218e-04 - acc: 1.0000\n",
            "Epoch 52/100\n",
            "8/8 [==============================] - 4s 428ms/step - loss: 1.5279e-05 - acc: 1.0000\n",
            "Epoch 53/100\n",
            "8/8 [==============================] - 4s 491ms/step - loss: 2.8690e-05 - acc: 1.0000\n",
            "Epoch 54/100\n",
            "8/8 [==============================] - 4s 433ms/step - loss: 1.1309e-05 - acc: 1.0000\n",
            "Epoch 55/100\n",
            "8/8 [==============================] - 4s 494ms/step - loss: 1.5608e-05 - acc: 1.0000\n",
            "Epoch 56/100\n",
            "8/8 [==============================] - 4s 495ms/step - loss: 2.5208e-05 - acc: 1.0000\n",
            "Epoch 57/100\n",
            "8/8 [==============================] - 4s 495ms/step - loss: 3.3118e-06 - acc: 1.0000\n",
            "Epoch 58/100\n",
            "8/8 [==============================] - 4s 494ms/step - loss: 3.8022e-06 - acc: 1.0000\n",
            "Epoch 59/100\n",
            "8/8 [==============================] - 4s 496ms/step - loss: 1.9262e-06 - acc: 1.0000\n",
            "Epoch 60/100\n",
            "8/8 [==============================] - 4s 491ms/step - loss: 5.9632e-07 - acc: 1.0000\n",
            "Epoch 61/100\n",
            "8/8 [==============================] - 4s 434ms/step - loss: 2.9504e-06 - acc: 1.0000\n",
            "Epoch 62/100\n",
            "8/8 [==============================] - 4s 489ms/step - loss: 5.4299e-07 - acc: 1.0000\n",
            "Epoch 63/100\n",
            "8/8 [==============================] - 4s 489ms/step - loss: 2.8970e-06 - acc: 1.0000\n",
            "Epoch 64/100\n",
            "8/8 [==============================] - 4s 489ms/step - loss: 1.2999e-06 - acc: 1.0000\n",
            "Epoch 65/100\n",
            "8/8 [==============================] - 4s 478ms/step - loss: 0.2959 - acc: 0.9844\n",
            "Epoch 66/100\n",
            "8/8 [==============================] - 4s 472ms/step - loss: 0.9600 - acc: 0.9062\n",
            "Epoch 67/100\n",
            "8/8 [==============================] - 4s 480ms/step - loss: 0.0013 - acc: 1.0000\n",
            "Epoch 68/100\n",
            "8/8 [==============================] - 4s 480ms/step - loss: 9.3280e-04 - acc: 1.0000\n",
            "Epoch 69/100\n",
            "8/8 [==============================] - 4s 475ms/step - loss: 6.6944e-04 - acc: 1.0000\n",
            "Epoch 70/100\n",
            "8/8 [==============================] - 4s 477ms/step - loss: 0.0121 - acc: 0.9844\n",
            "Epoch 71/100\n",
            "8/8 [==============================] - 4s 480ms/step - loss: 2.8851e-04 - acc: 1.0000\n",
            "Epoch 72/100\n",
            "8/8 [==============================] - 4s 478ms/step - loss: 6.0543e-05 - acc: 1.0000\n",
            "Epoch 73/100\n",
            "8/8 [==============================] - 4s 480ms/step - loss: 0.0198 - acc: 0.9844\n",
            "Epoch 74/100\n",
            "8/8 [==============================] - 4s 480ms/step - loss: 3.0379e-05 - acc: 1.0000\n",
            "Epoch 75/100\n",
            "8/8 [==============================] - 4s 478ms/step - loss: 0.0030 - acc: 1.0000\n",
            "Epoch 76/100\n",
            "8/8 [==============================] - 3s 417ms/step - loss: 0.0057 - acc: 1.0000\n",
            "Epoch 77/100\n",
            "8/8 [==============================] - 3s 427ms/step - loss: 1.0057e-04 - acc: 1.0000\n",
            "Epoch 78/100\n",
            "8/8 [==============================] - 4s 480ms/step - loss: 1.1866e-05 - acc: 1.0000\n",
            "Epoch 79/100\n",
            "8/8 [==============================] - 4s 478ms/step - loss: 1.5506e-05 - acc: 1.0000\n",
            "Epoch 80/100\n",
            "8/8 [==============================] - 4s 485ms/step - loss: 1.0557e-05 - acc: 1.0000\n",
            "Epoch 81/100\n",
            "8/8 [==============================] - 4s 479ms/step - loss: 9.8769e-06 - acc: 1.0000\n",
            "Epoch 82/100\n",
            "8/8 [==============================] - 4s 483ms/step - loss: 3.8714e-06 - acc: 1.0000\n",
            "Epoch 83/100\n",
            "8/8 [==============================] - 4s 481ms/step - loss: 5.0333e-06 - acc: 1.0000\n",
            "Epoch 84/100\n",
            "8/8 [==============================] - 3s 421ms/step - loss: 1.5656e-06 - acc: 1.0000\n",
            "Epoch 85/100\n",
            "8/8 [==============================] - 4s 481ms/step - loss: 2.1654e-06 - acc: 1.0000\n",
            "Epoch 86/100\n",
            "8/8 [==============================] - 4s 484ms/step - loss: 8.5852e-06 - acc: 1.0000\n",
            "Epoch 87/100\n",
            "8/8 [==============================] - 4s 483ms/step - loss: 5.9324e-07 - acc: 1.0000\n",
            "Epoch 88/100\n",
            "8/8 [==============================] - 4s 483ms/step - loss: 4.7399e-07 - acc: 1.0000\n",
            "Epoch 89/100\n",
            "8/8 [==============================] - 4s 428ms/step - loss: 3.6170e-07 - acc: 1.0000\n",
            "Epoch 90/100\n",
            "8/8 [==============================] - 4s 425ms/step - loss: 1.2992e-07 - acc: 1.0000\n",
            "Epoch 91/100\n",
            "8/8 [==============================] - 4s 487ms/step - loss: 2.8681e-07 - acc: 1.0000\n",
            "Epoch 92/100\n",
            "8/8 [==============================] - 4s 483ms/step - loss: 8.2718e-08 - acc: 1.0000\n",
            "Epoch 93/100\n",
            "8/8 [==============================] - 3s 426ms/step - loss: 1.5091e-07 - acc: 1.0000\n",
            "Epoch 94/100\n",
            "8/8 [==============================] - 4s 425ms/step - loss: 2.6072e-08 - acc: 1.0000\n",
            "Epoch 95/100\n",
            "8/8 [==============================] - 4s 426ms/step - loss: 1.3703e-08 - acc: 1.0000\n",
            "Epoch 96/100\n",
            "8/8 [==============================] - 4s 485ms/step - loss: 3.5613e-08 - acc: 1.0000\n",
            "Epoch 97/100\n",
            "8/8 [==============================] - 4s 487ms/step - loss: 1.1379e-08 - acc: 1.0000\n",
            "Epoch 98/100\n",
            "8/8 [==============================] - 4s 428ms/step - loss: 3.2583e-08 - acc: 1.0000\n",
            "Epoch 99/100\n",
            "8/8 [==============================] - 4s 485ms/step - loss: 7.1504e-09 - acc: 1.0000\n",
            "Epoch 100/100\n",
            "8/8 [==============================] - 4s 488ms/step - loss: 1.9655e-08 - acc: 1.0000\n"
          ]
        }
      ],
      "source": [
        "his=model.fit_generator(\n",
        "      train_generator,\n",
        "      steps_per_epoch=8,  \n",
        "      epochs=100,\n",
        "      verbose=1)"
      ]
    },
    {
      "cell_type": "code",
      "execution_count": null,
      "metadata": {
        "id": "nJkFfuXeZFfU"
      },
      "outputs": [],
      "source": [
        "model.save('/content/gdrive/MyDrive/bone_model.h5')"
      ]
    },
    {
      "cell_type": "code",
      "execution_count": null,
      "metadata": {
        "id": "CL_FiVh68ObV"
      },
      "outputs": [],
      "source": [
        "\n"
      ]
    },
    {
      "cell_type": "code",
      "execution_count": null,
      "metadata": {
        "id": "vOnCVWnJG6ya"
      },
      "outputs": [],
      "source": [
        ""
      ]
    }
  ],
  "metadata": {
    "colab": {
      "name": "bone_fracture.ipynb",
      "provenance": []
    },
    "kernelspec": {
      "display_name": "Python 3",
      "name": "python3"
    }
  },
  "nbformat": 4,
  "nbformat_minor": 0
}